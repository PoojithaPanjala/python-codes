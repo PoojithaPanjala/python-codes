{
  "nbformat": 4,
  "nbformat_minor": 0,
  "metadata": {
    "colab": {
      "provenance": []
    },
    "kernelspec": {
      "name": "python3",
      "display_name": "Python 3"
    },
    "language_info": {
      "name": "python"
    }
  },
  "cells": [
    {
      "cell_type": "code",
      "execution_count": 3,
      "metadata": {
        "colab": {
          "base_uri": "https://localhost:8080/"
        },
        "id": "NQwtMJNiS-nr",
        "outputId": "52696c48-d84e-41c9-f61c-6bd8081ddc9d"
      },
      "outputs": [
        {
          "output_type": "stream",
          "name": "stdout",
          "text": [
            "      Invoice ID Branch       City Customer type  Gender  \\\n",
            "0    750-67-8428      A     Yangon        Member  Female   \n",
            "1    226-31-3081      C  Naypyitaw        Normal  Female   \n",
            "2    631-41-3108      A     Yangon        Normal    Male   \n",
            "3    123-19-1176      A     Yangon        Member    Male   \n",
            "4    373-73-7910      A     Yangon        Normal    Male   \n",
            "..           ...    ...        ...           ...     ...   \n",
            "995  233-67-5758      C  Naypyitaw        Normal    Male   \n",
            "996  303-96-2227      B   Mandalay        Normal  Female   \n",
            "997  727-02-1313      A     Yangon        Member    Male   \n",
            "998  347-56-2442      A     Yangon        Normal    Male   \n",
            "999  849-09-3807      A     Yangon        Member  Female   \n",
            "\n",
            "               Product line  Unit price  Quantity   Tax 5%      Total  \\\n",
            "0         Health and beauty       74.69         7  26.1415   548.9715   \n",
            "1    Electronic accessories       15.28         5   3.8200    80.2200   \n",
            "2        Home and lifestyle       46.33         7  16.2155   340.5255   \n",
            "3         Health and beauty       58.22         8  23.2880   489.0480   \n",
            "4         Sports and travel       86.31         7  30.2085   634.3785   \n",
            "..                      ...         ...       ...      ...        ...   \n",
            "995       Health and beauty       40.35         1   2.0175    42.3675   \n",
            "996      Home and lifestyle       97.38        10  48.6900  1022.4900   \n",
            "997      Food and beverages       31.84         1   1.5920    33.4320   \n",
            "998      Home and lifestyle       65.82         1   3.2910    69.1110   \n",
            "999     Fashion accessories       88.34         7  30.9190   649.2990   \n",
            "\n",
            "          Date   Time      Payment    cogs  gross margin percentage  \\\n",
            "0     1/5/2019  13:08      Ewallet  522.83                 4.761905   \n",
            "1     3/8/2019  10:29         Cash   76.40                 4.761905   \n",
            "2     3/3/2019  13:23  Credit card  324.31                 4.761905   \n",
            "3    1/27/2019  20:33      Ewallet  465.76                 4.761905   \n",
            "4     2/8/2019  10:37      Ewallet  604.17                 4.761905   \n",
            "..         ...    ...          ...     ...                      ...   \n",
            "995  1/29/2019  13:46      Ewallet   40.35                 4.761905   \n",
            "996   3/2/2019  17:16      Ewallet  973.80                 4.761905   \n",
            "997   2/9/2019  13:22         Cash   31.84                 4.761905   \n",
            "998  2/22/2019  15:33         Cash   65.82                 4.761905   \n",
            "999  2/18/2019  13:28         Cash  618.38                 4.761905   \n",
            "\n",
            "     gross income  Rating  \n",
            "0         26.1415     9.1  \n",
            "1          3.8200     9.6  \n",
            "2         16.2155     7.4  \n",
            "3         23.2880     8.4  \n",
            "4         30.2085     5.3  \n",
            "..            ...     ...  \n",
            "995        2.0175     6.2  \n",
            "996       48.6900     4.4  \n",
            "997        1.5920     7.7  \n",
            "998        3.2910     4.1  \n",
            "999       30.9190     6.6  \n",
            "\n",
            "[1000 rows x 17 columns]\n",
            "Index(['Invoice ID', 'Branch', 'City', 'Customer type', 'Gender',\n",
            "       'Product line', 'Unit price', 'Quantity', 'Tax 5%', 'Total', 'Date',\n",
            "       'Time', 'Payment', 'cogs', 'gross margin percentage', 'gross income',\n",
            "       'Rating'],\n",
            "      dtype='object')\n"
          ]
        }
      ],
      "source": [
        "import pandas as pd\n",
        "df = pd.read_csv(\"/content/supermarket_sales -.csv\")\n",
        "print(df)\n",
        "print(df.columns)"
      ]
    },
    {
      "cell_type": "code",
      "source": [
        "A = df[df['Customer type'] == 'Member']\n",
        "B = df[df['Payment'] == 'Credit Card']\n",
        "\n",
        "P_A = len(A) / len(df)\n",
        "P_B = len(B) / len(df)\n",
        "P_A_intersection_B = len(df[(df['Customer type'] == 'Member') & (df['Payment'] == 'Credit Card')]) / len(df)  # P(A ∩ B) # Changed 'Customer Type' to 'Customer type' based on the hypothesis\n",
        "P_A_union_B = P_A + P_B - P_A_intersection_B\n",
        "\n",
        "print(f\"P(A) = {P_A:.4f}\")\n",
        "print(f\"P(B) = {P_B:.4f}\")\n",
        "print(f\"P(A ∪ B) = {P_A_union_B:.4f}\")\n",
        "print(f\"P(A ∩ B) = {P_A_intersection_B:.4f}\")\n",
        "print(f\"P(A | B) = {P_A_given_B:.4f}\")"
      ],
      "metadata": {
        "colab": {
          "base_uri": "https://localhost:8080/"
        },
        "id": "0KU-6TWraae5",
        "outputId": "c4c3480d-902c-49a0-b0d7-e145a97ffedf"
      },
      "execution_count": 7,
      "outputs": [
        {
          "output_type": "stream",
          "name": "stdout",
          "text": [
            "P(A) = 0.5010\n",
            "P(B) = 0.0000\n",
            "P(A ∪ B) = 0.5010\n",
            "P(A ∩ B) = 0.0000\n",
            "P(A | B) = nan\n"
          ]
        }
      ]
    },
    {
      "cell_type": "code",
      "source": [
        "P_health_beauty = len(df[df['Product line'] == 'Health & Beauty']) / len(df)\n",
        "\n",
        "print(f\"P(Health & Beauty) = {P_health_beauty:.4f}\")"
      ],
      "metadata": {
        "colab": {
          "base_uri": "https://localhost:8080/"
        },
        "id": "c1g3nrKFeNIk",
        "outputId": "20b821a3-24ef-4326-b0d2-1259abe35854"
      },
      "execution_count": 8,
      "outputs": [
        {
          "output_type": "stream",
          "name": "stdout",
          "text": [
            "P(Health & Beauty) = 0.0000\n"
          ]
        }
      ]
    },
    {
      "cell_type": "code",
      "source": [
        "\n",
        "P_more_than_5_given_ewallet = len(df[(df['Payment'] == 'Ewallet') & (df['Quantity'] > 5)]) / len(df[df['Payment'] == 'Ewallet'])\n",
        "P_more_than_5_given_ewallet = len(df[(df['Payment'] == 'Ewallet') & (df['Quantity'] > 5)]) / len(df[df['Payment'] == 'Ewallet'])\n",
        "\n",
        "print(f\"P(Quantity > 5 | Ewallet) = {P_more_than_5_given_ewallet:.4f}\")"
      ],
      "metadata": {
        "colab": {
          "base_uri": "https://localhost:8080/"
        },
        "id": "MFseZ336eOUC",
        "outputId": "a8938086-9e9d-45a5-b534-10f3d2c037dc"
      },
      "execution_count": 10,
      "outputs": [
        {
          "output_type": "stream",
          "name": "stdout",
          "text": [
            "P(Quantity > 5 | Ewallet) = 0.4870\n"
          ]
        }
      ]
    },
    {
      "cell_type": "code",
      "source": [
        "P_cash_yangon = len(df[(df['City'] == 'Yangon') & (df['Payment'] == 'Cash')]) / len(df[df['City'] == 'Yangon'])\n",
        "print(f\"P(Cash | Yangon) = {P_cash_yangon:.4f}\")"
      ],
      "metadata": {
        "colab": {
          "base_uri": "https://localhost:8080/"
        },
        "id": "uaXwWFpAeh1G",
        "outputId": "63345340-a867-413e-b10b-6b5ea3ec843d"
      },
      "execution_count": 11,
      "outputs": [
        {
          "output_type": "stream",
          "name": "stdout",
          "text": [
            "P(Cash | Yangon) = 0.3235\n"
          ]
        }
      ]
    },
    {
      "cell_type": "code",
      "source": [
        "P_member_rating_above_8 = len(df[(df['Customer type'] == 'Member') & (df['Rating'] > 8)]) / len(df)\n",
        "print(f\"P(Member and Rating > 8) = {P_member_rating_above_8:.4f}\")"
      ],
      "metadata": {
        "colab": {
          "base_uri": "https://localhost:8080/"
        },
        "id": "Xlk54-sEeqXB",
        "outputId": "a16625f7-3f64-4731-f71c-8afb14374001"
      },
      "execution_count": 13,
      "outputs": [
        {
          "output_type": "stream",
          "name": "stdout",
          "text": [
            "P(Member and Rating > 8) = 0.1570\n"
          ]
        }
      ]
    },
    {
      "cell_type": "code",
      "source": [
        "import math\n",
        "num_product_lines = len(df['Product line'].unique())\n",
        "factorial_product_lines = factorial(num_product_lines)\n",
        "print(f\"Factorial of unique product lines: {factorial_product_lines}\")\n",
        "\n",
        "num_branches = len(df['Branch'].unique())\n",
        "permutations_branches = permutation(num_branches, 2)\n",
        "print(f\"Permutations of selecting 2 branches: {permutations_branches}\")\n",
        "\n",
        "num_customers = len(df['Invoice ID'].unique())\n",
        "combinations_customers = combination(num_customers, 3)\n",
        "print(f\"Combinations of selecting 3 customers: {combinations_customers}\")"
      ],
      "metadata": {
        "colab": {
          "base_uri": "https://localhost:8080/"
        },
        "id": "YymrSNfYe1HD",
        "outputId": "27221049-2f06-4391-a237-339d4a7ca443"
      },
      "execution_count": 16,
      "outputs": [
        {
          "output_type": "stream",
          "name": "stdout",
          "text": [
            "Factorial of unique product lines: 720\n",
            "Permutations of selecting 2 branches: 6\n",
            "Combinations of selecting 3 customers: 166167000\n"
          ]
        }
      ]
    },
    {
      "cell_type": "code",
      "source": [
        "total_transactions = 20\n",
        "num_transactions_to_arrange = 5\n",
        "\n",
        "arrangements = permutation(total_transactions, num_transactions_to_arrange)\n",
        "print(f\"Number of ways to arrange 5 transactions out of 20: {arrangements}\")\n",
        "\n",
        "total_product_lines = 6\n",
        "num_product_lines_to_select = 3\n",
        "\n",
        "selections = combination(total_product_lines, num_product_lines_to_select)\n",
        "print(f\"Number of ways to select 3 product lines out of 6: {selections}\")\n",
        "\n",
        "num_branches = len(df['Branch'].unique())\n",
        "branch_factorial = factorial(num_branches)\n",
        "print(f\"Factorial of the total number of branches: {branch_factorial}\")"
      ],
      "metadata": {
        "colab": {
          "base_uri": "https://localhost:8080/"
        },
        "id": "yzoFqTmLfyxb",
        "outputId": "19e9a427-97d5-4a12-9bb5-d32bcc05bf8e"
      },
      "execution_count": 17,
      "outputs": [
        {
          "output_type": "stream",
          "name": "stdout",
          "text": [
            "Number of ways to arrange 5 transactions out of 20: 1860480\n",
            "Number of ways to select 3 product lines out of 6: 20\n",
            "Factorial of the total number of branches: 6\n"
          ]
        }
      ]
    },
    {
      "cell_type": "code",
      "source": [
        "num_payment_types = 3\n",
        "num_payment_methods_to_display = 4\n",
        "num_ways = combination(num_payment_types + num_payment_methods_to_display - 1, num_payment_methods_to_display)\n",
        "\n",
        "print(f\"Number of ways to display 4 payment methods from 3 types: {num_ways}\")"
      ],
      "metadata": {
        "colab": {
          "base_uri": "https://localhost:8080/"
        },
        "id": "HJBk_OksgD9y",
        "outputId": "0f741883-04fd-4d5f-cb8c-781c5f272bad"
      },
      "execution_count": 18,
      "outputs": [
        {
          "output_type": "stream",
          "name": "stdout",
          "text": [
            "Number of ways to display 4 payment methods from 3 types: 15\n"
          ]
        }
      ]
    },
    {
      "cell_type": "code",
      "source": [
        "total_employees = 15\n",
        "num_employees_to_select = 5\n",
        "\n",
        "num_ways = combination(total_employees, num_employees_to_select)\n",
        "\n",
        "print(f\"Number of ways to select 5 employees out of 15: {num_ways}\")"
      ],
      "metadata": {
        "colab": {
          "base_uri": "https://localhost:8080/"
        },
        "id": "mUqe2e8PgVQy",
        "outputId": "23f4f0e0-73a5-4446-a9a2-c3ee13af358f"
      },
      "execution_count": 19,
      "outputs": [
        {
          "output_type": "stream",
          "name": "stdout",
          "text": [
            "Number of ways to select 5 employees out of 15: 3003\n"
          ]
        }
      ]
    },
    {
      "cell_type": "code",
      "source": [
        "num_ways_with_repetition = 26 ** 6\n",
        "print(f\"Number of ways with repetition: {num_ways_with_repetition}\")\n",
        "num_ways_without_repetition = permutation(26, 6)\n",
        "print(f\"Number of ways without repetition: {num_ways_without_repetition}\")"
      ],
      "metadata": {
        "colab": {
          "base_uri": "https://localhost:8080/"
        },
        "id": "cXvaEgefgeNP",
        "outputId": "ee7acd72-e578-499d-e63e-4753212913c4"
      },
      "execution_count": 21,
      "outputs": [
        {
          "output_type": "stream",
          "name": "stdout",
          "text": [
            "Number of ways with repetition: 308915776\n",
            "Number of ways without repetition: 165765600\n"
          ]
        }
      ]
    }
  ]
}